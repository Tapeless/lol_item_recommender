{
 "cells": [
  {
   "cell_type": "code",
   "execution_count": null,
   "id": "a3303502-99ae-4104-8a6d-2ce8e04e52dc",
   "metadata": {},
   "outputs": [],
   "source": [
    "from riotwatcher import LolWatcher, ApiError, RateLimiter\n",
    "import pandas as pd"
   ]
  },
  {
   "cell_type": "code",
   "execution_count": null,
   "id": "23863e44-2c3d-469f-9494-f6f31b9e63af",
   "metadata": {},
   "outputs": [],
   "source": [
    "riotwatcher.RateLimiter()"
   ]
  },
  {
   "cell_type": "code",
   "execution_count": null,
   "id": "a4548a78-8f87-4f1d-9fbe-1bc8d1c0daa1",
   "metadata": {},
   "outputs": [],
   "source": [
    "#riot games api key\n",
    "api_key = ''\n",
    "\n",
    "#set region, init lol watcher obj\n",
    "region = 'na1'\n",
    "lol_watcher = LolWatcher(api_key)\n",
    "me = 'Tape'"
   ]
  },
  {
   "cell_type": "code",
   "execution_count": null,
   "id": "9dfc93db-3eb9-465a-bc10-670842d58a91",
   "metadata": {},
   "outputs": [],
   "source": [
    "lol_watcher.summoner.by_name(region, me)"
   ]
  },
  {
   "cell_type": "code",
   "execution_count": null,
   "id": "497aad56-67ec-4abb-ae44-429d91b23601",
   "metadata": {},
   "outputs": [],
   "source": [
    "#return challengers\n",
    "challengers = lol_watcher.league.challenger_by_queue(region, 'RANKED_SOLO_5x5')\n",
    "\n",
    "#return grandmasters\n",
    "gms = lol_watcher.league.grandmaster_by_queue(region, 'RANKED_SOLO_5x5')\n",
    "\n",
    "#return masters\n",
    "masters = lol_watcher.league.masters_by_queue(region, 'RANKED_SOLO_5x5')"
   ]
  },
  {
   "cell_type": "code",
   "execution_count": null,
   "id": "e253ef63-9d54-4afe-8aef-140335dd76d3",
   "metadata": {},
   "outputs": [],
   "source": [
    "#list of the above objects\n",
    "all_top_players = [challengers, gms, masters]\n",
    "\n",
    "#loop through and concat all summoner Ids\n",
    "summoner_ids = []\n",
    "for division in all_top_players:\n",
    "    for entry in division['entries']:\n",
    "        summoner_ids.append(list(entry.values())[0])"
   ]
  },
  {
   "cell_type": "code",
   "execution_count": null,
   "id": "6aa50959-8257-4336-889d-37094ac05d39",
   "metadata": {},
   "outputs": [],
   "source": [
    "#now we have all summoner IDs in a list\n",
    "#because my key is a development key, limited to 100 requests every 2 minutes\n",
    "#i want to make a lot more queries than that"
   ]
  },
  {
   "cell_type": "code",
   "execution_count": null,
   "id": "31736fb6-a2ce-467b-b279-af6b268ac8de",
   "metadata": {},
   "outputs": [],
   "source": [
    "#map summid to puuid\n",
    "summid_to_puuid = {}\n",
    "for summoner in summoner_ids:\n",
    "    summid_to_puuid[summoner] =  lol_watcher.summoner.by_id(region, summoner)['puuid']"
   ]
  },
  {
   "cell_type": "code",
   "execution_count": null,
   "id": "8d3203d9-55f0-4dd1-928b-8eb6ed839ab7",
   "metadata": {},
   "outputs": [],
   "source": [
    "#create dict to hold champion masteries for each summoner by puuid\n",
    "mastery_dict = {}\n",
    "\n",
    "#fill dict\n",
    "for summoner in summoner_ids:\n",
    "    #make request for champion masteries, store in variable\n",
    "    masteries = lol_watcher.champion_mastery.by_summoner(region, summoner)\n",
    "    #loop through, adding high mastery champs to list\n",
    "    puuid = summid_to_puuid[summoner]\n",
    "    mastery_dict[puuid] = []\n",
    "    for mastery in masteries:\n",
    "        if mastery.get('championPoints') > 100000:\n",
    "            mastery_dict[puuid].append(mastery.get('championId'))"
   ]
  },
  {
   "cell_type": "code",
   "execution_count": null,
   "id": "ffbcb7e2-6b4b-4f29-a1b1-7e263b2f03b4",
   "metadata": {},
   "outputs": [],
   "source": [
    "#okay, now we could iterate over each summoner and grab matches. However, we could likely\n",
    "#improve runtime by checking for each summoner in our list to see if they were in the game\n",
    "\n",
    "#create list to store dict objects\n",
    "data_rows = []\n",
    "            \n",
    "#store set of matches already looked through\n",
    "matches_scanned = set()"
   ]
  },
  {
   "cell_type": "code",
   "execution_count": null,
   "id": "708f0531-646f-4774-9c49-fc61a9b41dd6",
   "metadata": {},
   "outputs": [],
   "source": [
    "#list of features we want to record\n",
    "features = ['puuid',\n",
    "            'championId',\n",
    "            'item0',\n",
    "            'item1',\n",
    "            'item2',\n",
    "            'item3',\n",
    "            'item4',\n",
    "            'item5',\n",
    "            'item6',\n",
    "            'kills',\n",
    "            'deaths',\n",
    "            'assists',\n",
    "            'totalDamageDealtToChampions',\n",
    "            'role',\n",
    "            'teamPosition',\n",
    "            'teamId',\n",
    "            'gameEndedInEarlySurrender',\n",
    "            'win']\n",
    "\n",
    "# TODO: add error 503 handling\n",
    "for key, value in mastery_dict.items():\n",
    "    #store matchlist for each puuid\n",
    "    match_list = lol_watcher.match.matchlist_by_puuid(region, key, count = 50)\n",
    "    for match in match_list:\n",
    "        if match not in matches_scanned:\n",
    "            #store match data in variable\n",
    "            match_data = lol_watcher.match.by_id(region, match)\n",
    "            #store participant information in variable to iterate over (list of dicts) if classic game\n",
    "            if match_data['info']['gameMode'] == 'CLASSIC':\n",
    "                player_info = match_data['info']['participants']\n",
    "                #create dict of champs on team1, team2\n",
    "                champions_in_game = {}\n",
    "                champions_in_game[100] = []\n",
    "                champions_in_game[200] = []\n",
    "                for player in player_info:\n",
    "                    #add champ played to dict\n",
    "                    champions_in_game[player['teamId']].append(player['championId'])\n",
    "                    #check to see if player in our list of masters+ players\n",
    "                    if player['puuid'] in mastery_dict.keys(): \n",
    "                        #check to see if player on a high mastery champ\n",
    "                        if player['championId'] in mastery_dict[player['puuid']]:\n",
    "                            #get player data, store in dictionary\n",
    "                            player_data = {}\n",
    "                            for feature in features:\n",
    "                                player_data[feature] = player[feature]\n",
    "                            player_data['match_id'] = match\n",
    "                            player_data['champions_in_game'] = champions_in_game\n",
    "                            #append dictionary to list\n",
    "                            data_rows.append(player_data)\n",
    "                            \n",
    "                #print out to watch progress\n",
    "                #print('champion ID: ',player_data['championId'],', win:',player_data['win'])\n",
    "                #print('champs in game: ',player_data['champions_in_game'])\n",
    "                            \n",
    "            #append match_id to matches_scanned set\n",
    "            matches_scanned.add(match)\n",
    "\n"
   ]
  },
  {
   "cell_type": "code",
   "execution_count": null,
   "id": "8c422ebd-ab06-4b5e-9988-0ae5ed711b58",
   "metadata": {},
   "outputs": [],
   "source": [
    "#do we have info for every champion?\n",
    "champs_logged = set()\n",
    "for row in data_rows:\n",
    "    champs_logged.add(row['championId'])\n",
    "len(champs_logged)"
   ]
  },
  {
   "cell_type": "code",
   "execution_count": null,
   "id": "6bfe796a-72d8-402e-9640-5d3f08a4d92d",
   "metadata": {},
   "outputs": [],
   "source": [
    "#we dooooooooo\n",
    "#construct a row for each entry in the data_rows object to go into our dataframe\n",
    "dataframe[0]"
   ]
  },
  {
   "cell_type": "code",
   "execution_count": null,
   "id": "5422cb94-761d-46e6-9336-6b8d226fe050",
   "metadata": {},
   "outputs": [],
   "source": [
    "#lets immediately put this in a database before we break it\n",
    "import sqlite3"
   ]
  },
  {
   "cell_type": "code",
   "execution_count": null,
   "id": "6b26df5f-0c58-4e3b-ad63-bb58f3069f25",
   "metadata": {},
   "outputs": [],
   "source": [
    "conn = sqlite3.connect('match_entries.db')"
   ]
  },
  {
   "cell_type": "code",
   "execution_count": null,
   "id": "7d075f80-949e-4d6c-9b76-04be62f602ef",
   "metadata": {},
   "outputs": [],
   "source": [
    "df = pd.DataFrame.from_dict(data_rows)"
   ]
  },
  {
   "cell_type": "code",
   "execution_count": null,
   "id": "dd64c987-6b59-4087-b705-c60a026ff136",
   "metadata": {},
   "outputs": [],
   "source": [
    "df = pd.DataFrame.from_dict(dataframe)\n",
    "df.to_csv('matches.csv')"
   ]
  },
  {
   "cell_type": "code",
   "execution_count": null,
   "id": "115145f0-0d0d-4a13-8333-08d23c6f27e8",
   "metadata": {},
   "outputs": [],
   "source": [
    "#backup var\n",
    "data_rows2 = data_rows"
   ]
  },
  {
   "cell_type": "code",
   "execution_count": null,
   "id": "30dd4381-510e-4006-b87a-a174776fad7b",
   "metadata": {},
   "outputs": [],
   "source": [
    "df[\"champions_in_game\"][0][100]"
   ]
  },
  {
   "cell_type": "code",
   "execution_count": null,
   "id": "aab98b8c-3c77-4add-8021-0a281e1d9919",
   "metadata": {},
   "outputs": [],
   "source": [
    "#drop where teamPosition empty\n",
    "df = df[df['teamPosition'] != '']\n",
    "#drop where game ended in early surrender\n",
    "df = df[df['gameEndedInEarlySurrender'] == False]"
   ]
  },
  {
   "cell_type": "code",
   "execution_count": null,
   "id": "8c8ae37a-15bb-40f1-807d-7389bfd5c295",
   "metadata": {},
   "outputs": [],
   "source": [
    "df[['teamId','champions_in_game']]"
   ]
  },
  {
   "cell_type": "code",
   "execution_count": null,
   "id": "cc0080be-e33d-4036-9ef9-2144ec72df19",
   "metadata": {},
   "outputs": [],
   "source": [
    "#lets construct columns from the teamId and champions_in_game column\n",
    "\n",
    "#new column, list of champions on player's team\n",
    "df['teammates_championId'] = df.apply(lambda x: x['champions_in_game'].get(x['teamId']), axis=1)\n",
    "\n",
    "#new column, list of enemy champions\n",
    "opposite_team_dict = {100:200, 200:100}\n",
    "df['opposite_team_id'] = df['teamId'].map(opposite_team_dict)\n",
    "df['enemies_championId'] = df.apply(lambda x: x['champions_in_game'].get(x['opposite_team_id']), axis=1)"
   ]
  },
  {
   "cell_type": "code",
   "execution_count": null,
   "id": "c5da61ad-bf9f-4306-8878-560aff13d567",
   "metadata": {},
   "outputs": [],
   "source": [
    "df = df.drop(labels=[\"champions_in_game\",\"opposite_team_id\"], axis=1)"
   ]
  },
  {
   "cell_type": "code",
   "execution_count": null,
   "id": "4fc751bd-4558-48ad-8f28-8ca0c914f4d3",
   "metadata": {},
   "outputs": [],
   "source": [
    "#split list into individual columns\n",
    "player_cols = [\"enemies_championId\", \"teammates_championId\"]\n",
    "for col in player_cols:\n",
    "    temp_df = df[col].apply(pd.Series)\n",
    "    temp_df = temp_df.add_prefix(col[:-10])\n",
    "    df = pd.concat([df, temp_df], axis=1)"
   ]
  }
 ],
 "metadata": {
  "kernelspec": {
   "display_name": "Python 3 (ipykernel)",
   "language": "python",
   "name": "python3"
  },
  "language_info": {
   "codemirror_mode": {
    "name": "ipython",
    "version": 3
   },
   "file_extension": ".py",
   "mimetype": "text/x-python",
   "name": "python",
   "nbconvert_exporter": "python",
   "pygments_lexer": "ipython3",
   "version": "3.8.5"
  }
 },
 "nbformat": 4,
 "nbformat_minor": 5
}
